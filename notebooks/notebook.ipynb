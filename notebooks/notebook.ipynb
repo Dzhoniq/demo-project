{
 "cells": [
  {
   "cell_type": "code",
   "execution_count": 2,
   "metadata": {},
   "outputs": [
    {
     "name": "stdout",
     "output_type": "stream",
     "text": [
      "15\n",
      "5\n",
      "50\n",
      "2.0\n"
     ]
    }
   ],
   "source": [
    "def add(a,b): return a+b\n",
    "def substract(a,b): \n",
    "    return a-b\n",
    "def multiply(a,b): return a*b\n",
    "def divide(a, b): \n",
    "    if b==0: \n",
    "        return None\n",
    "    return a/b\n",
    "a = 10\n",
    "b=5\n",
    "print(add(a,b))\n",
    "print(substract(a,b))\n",
    "print(multiply(a,b))\n",
    "print(divide(a,b))"
   ]
  },
  {
   "cell_type": "markdown",
   "metadata": {},
   "source": []
  }
 ],
 "metadata": {
  "kernelspec": {
   "display_name": "Python 3.10.7 ('.venv': venv)",
   "language": "python",
   "name": "python3"
  },
  "language_info": {
   "codemirror_mode": {
    "name": "ipython",
    "version": 3
   },
   "file_extension": ".py",
   "mimetype": "text/x-python",
   "name": "python",
   "nbconvert_exporter": "python",
   "pygments_lexer": "ipython3",
   "version": "3.10.7"
  },
  "orig_nbformat": 4,
  "vscode": {
   "interpreter": {
    "hash": "be250d90cc6ec0001ab706075302021d48edec225675aff774ae24431820b337"
   }
  }
 },
 "nbformat": 4,
 "nbformat_minor": 2
}
